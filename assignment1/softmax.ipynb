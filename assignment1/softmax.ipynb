{
 "cells": [
  {
   "cell_type": "markdown",
   "metadata": {},
   "source": [
    "# Softmax exercise\n",
    "\n",
    "*Complete and hand in this completed worksheet (including its outputs and any supporting code outside of the worksheet) with your assignment submission. For more details see the [assignments page](http://vision.stanford.edu/teaching/cs231n/assignments.html) on the course website.*\n",
    "\n",
    "This exercise is analogous to the SVM exercise. You will:\n",
    "\n",
    "- implement a fully-vectorized **loss function** for the Softmax classifier\n",
    "- implement the fully-vectorized expression for its **analytic gradient**\n",
    "- **check your implementation** with numerical gradient\n",
    "- use a validation set to **tune the learning rate and regularization** strength\n",
    "- **optimize** the loss function with **SGD**\n",
    "- **visualize** the final learned weights\n"
   ]
  },
  {
   "cell_type": "code",
   "execution_count": 1,
   "metadata": {},
   "outputs": [],
   "source": [
    "import random\n",
    "import numpy as np\n",
    "from cs231n.data_utils import load_CIFAR10\n",
    "import matplotlib.pyplot as plt\n",
    "\n",
    "from __future__ import print_function\n",
    "\n",
    "%matplotlib inline\n",
    "plt.rcParams['figure.figsize'] = (10.0, 8.0) # set default size of plots\n",
    "plt.rcParams['image.interpolation'] = 'nearest'\n",
    "plt.rcParams['image.cmap'] = 'gray'\n",
    "\n",
    "# for auto-reloading extenrnal modules\n",
    "# see http://stackoverflow.com/questions/1907993/autoreload-of-modules-in-ipython\n",
    "%load_ext autoreload\n",
    "%autoreload 2"
   ]
  },
  {
   "cell_type": "code",
   "execution_count": 2,
   "metadata": {},
   "outputs": [
    {
     "name": "stdout",
     "output_type": "stream",
     "text": [
      "Train data shape:  (49000, 3073)\n",
      "Train labels shape:  (49000,)\n",
      "Validation data shape:  (1000, 3073)\n",
      "Validation labels shape:  (1000,)\n",
      "Test data shape:  (1000, 3073)\n",
      "Test labels shape:  (1000,)\n",
      "dev data shape:  (500, 3073)\n",
      "dev labels shape:  (500,)\n"
     ]
    }
   ],
   "source": [
    "def get_CIFAR10_data(num_training=49000, num_validation=1000, num_test=1000, num_dev=500):\n",
    "    \"\"\"\n",
    "    Load the CIFAR-10 dataset from disk and perform preprocessing to prepare\n",
    "    it for the linear classifier. These are the same steps as we used for the\n",
    "    SVM, but condensed to a single function.  \n",
    "    \"\"\"\n",
    "    # Load the raw CIFAR-10 data\n",
    "    cifar10_dir = 'cs231n/datasets/cifar-10-batches-py'\n",
    "    X_train, y_train, X_test, y_test = load_CIFAR10(cifar10_dir)\n",
    "    \n",
    "    # subsample the data\n",
    "    mask = list(range(num_training, num_training + num_validation))\n",
    "    X_val = X_train[mask]\n",
    "    y_val = y_train[mask]\n",
    "    mask = list(range(num_training))\n",
    "    X_train = X_train[mask]\n",
    "    y_train = y_train[mask]\n",
    "    mask = list(range(num_test))\n",
    "    X_test = X_test[mask]\n",
    "    y_test = y_test[mask]\n",
    "    mask = np.random.choice(num_training, num_dev, replace=False)\n",
    "    X_dev = X_train[mask]\n",
    "    y_dev = y_train[mask]\n",
    "    \n",
    "    # Preprocessing: reshape the image data into rows\n",
    "    X_train = np.reshape(X_train, (X_train.shape[0], -1))\n",
    "    X_val = np.reshape(X_val, (X_val.shape[0], -1))\n",
    "    X_test = np.reshape(X_test, (X_test.shape[0], -1))\n",
    "    X_dev = np.reshape(X_dev, (X_dev.shape[0], -1))\n",
    "    \n",
    "    # Normalize the data: subtract the mean image\n",
    "    mean_image = np.mean(X_train, axis = 0)\n",
    "    X_train -= mean_image\n",
    "    X_val -= mean_image\n",
    "    X_test -= mean_image\n",
    "    X_dev -= mean_image\n",
    "    \n",
    "    # add bias dimension and transform into columns\n",
    "    X_train = np.hstack([X_train, np.ones((X_train.shape[0], 1))])\n",
    "    X_val = np.hstack([X_val, np.ones((X_val.shape[0], 1))])\n",
    "    X_test = np.hstack([X_test, np.ones((X_test.shape[0], 1))])\n",
    "    X_dev = np.hstack([X_dev, np.ones((X_dev.shape[0], 1))])\n",
    "    \n",
    "    return X_train, y_train, X_val, y_val, X_test, y_test, X_dev, y_dev\n",
    "\n",
    "\n",
    "# Invoke the above function to get our data.\n",
    "X_train, y_train, X_val, y_val, X_test, y_test, X_dev, y_dev = get_CIFAR10_data()\n",
    "print('Train data shape: ', X_train.shape)\n",
    "print('Train labels shape: ', y_train.shape)\n",
    "print('Validation data shape: ', X_val.shape)\n",
    "print('Validation labels shape: ', y_val.shape)\n",
    "print('Test data shape: ', X_test.shape)\n",
    "print('Test labels shape: ', y_test.shape)\n",
    "print('dev data shape: ', X_dev.shape)\n",
    "print('dev labels shape: ', y_dev.shape)"
   ]
  },
  {
   "cell_type": "markdown",
   "metadata": {},
   "source": [
    "## Softmax Classifier\n",
    "\n",
    "Your code for this section will all be written inside **cs231n/classifiers/softmax.py**. \n"
   ]
  },
  {
   "cell_type": "code",
   "execution_count": 3,
   "metadata": {},
   "outputs": [
    {
     "name": "stdout",
     "output_type": "stream",
     "text": [
      "loss: 2.366357\n",
      "sanity check: 2.302585\n",
      "Softmax (closed expression): [0.00247262]\n",
      "Softmax (computation graph): [[0.00247262]]\n",
      "Softmax derivative (closed expression):\n",
      " [[ 0.00246651 -0.00246651]\n",
      " [ 0.00493302 -0.00493302]\n",
      " [ 0.00739953 -0.00739953]]\n",
      "Softmax derivative (computation graph):\n",
      " [[ 0.00246651 -0.00246651]\n",
      " [ 0.00493302 -0.00493302]\n",
      " [ 0.00739953 -0.00739953]]\n"
     ]
    }
   ],
   "source": [
    "# First implement the naive softmax loss function with nested loops.\n",
    "# Open the file cs231n/classifiers/softmax.py and implement the\n",
    "# softmax_loss_naive function.\n",
    "\n",
    "from cs231n.classifiers.softmax import softmax_loss_naive\n",
    "import time\n",
    "\n",
    "# Generate a random softmax weight matrix and use it to compute the loss.\n",
    "W = np.random.randn(3073, 10) * 0.0001\n",
    "loss, grad = softmax_loss_naive(W, X_dev, y_dev, 0.0)\n",
    "\n",
    "# As a rough sanity check, our loss should be something close to -log(0.1).\n",
    "print('loss: %f' % loss)\n",
    "print('sanity check: %f' % (-np.log(0.1)))\n",
    "\n",
    "\n",
    "# 3 features, 2 classes\n",
    "from cs231n.classifiers.softmax import SoftmaxFun\n",
    "x_check=np.array([1,2,3])[np.newaxis,:]\n",
    "class_x_check=0\n",
    "W_check=np.array([[1,2],[3,4],[5,6]])\n",
    "def softmax_check(x,class_x,W):\n",
    "    return np.exp(np.dot(x,W[:,class_x]))/np.sum(np.exp(np.dot(x,W)))\n",
    "def dsoftmax_check(x,class_x,W):\n",
    "    S0 = softmax_check(x,0,W)\n",
    "    S1 = softmax_check(x,1,W)\n",
    "    dW = np.zeros_like(W)\n",
    "    if class_x==0:\n",
    "        dW = np.concatenate((S0*(1-S0)*x.T,S0*(-S1)*x.T),axis=1)\n",
    "    else:\n",
    "        dW = np.concatenate((S1*(-S0)*x.T,S1*(1-S1)*x.T),axis=1)\n",
    "    return dW\n",
    "softmax = SoftmaxFun()\n",
    "print(\"Softmax (closed expression):\", softmax_check(x_check,class_x_check,W_check))\n",
    "print(\"Softmax (computation graph):\", softmax.forward(X=x_check,y=np.reshape(class_x_check,(1,1)),W=W_check))\n",
    "print(\"Softmax derivative (closed expression):\\n\", dsoftmax_check(x_check,class_x_check,W_check))\n",
    "print(\"Softmax derivative (computation graph):\\n\", softmax.backward(1))"
   ]
  },
  {
   "cell_type": "markdown",
   "metadata": {},
   "source": [
    "## Inline Question 1:\n",
    "Why do we expect our loss to be close to -log(0.1)? Explain briefly.**\n",
    "\n",
    "**Your answer:** We have 10 classes. If we initialize all weights with small numbers, the softmax function should take on a value of about 1/10.\n"
   ]
  },
  {
   "cell_type": "code",
   "execution_count": 4,
   "metadata": {
    "scrolled": true
   },
   "outputs": [
    {
     "name": "stdout",
     "output_type": "stream",
     "text": [
      "numerical: 0.744626 analytic: 0.744625, relative error: 1.186027e-07\n",
      "numerical: 1.605316 analytic: 1.605316, relative error: 1.964894e-09\n",
      "numerical: -1.628771 analytic: -1.628771, relative error: 1.325298e-08\n",
      "numerical: -0.589165 analytic: -0.589165, relative error: 3.115843e-08\n",
      "numerical: -3.728556 analytic: -3.728556, relative error: 2.307240e-08\n",
      "numerical: 2.583101 analytic: 2.583101, relative error: 2.533390e-08\n",
      "numerical: -0.342959 analytic: -0.342959, relative error: 1.225614e-07\n",
      "numerical: 1.674458 analytic: 1.674458, relative error: 1.671614e-08\n",
      "numerical: 2.644072 analytic: 2.644072, relative error: 1.319162e-08\n",
      "numerical: -1.600757 analytic: -1.600757, relative error: 4.124456e-08\n",
      "numerical: -0.155975 analytic: -0.155975, relative error: 2.672473e-07\n",
      "numerical: 0.523116 analytic: 0.523116, relative error: 8.507474e-09\n",
      "numerical: 0.177494 analytic: 0.177494, relative error: 5.542543e-08\n",
      "numerical: 0.933394 analytic: 0.933394, relative error: 4.144658e-08\n",
      "numerical: -0.014500 analytic: -0.014500, relative error: 2.600855e-06\n",
      "numerical: 0.421298 analytic: 0.421299, relative error: 7.582729e-08\n",
      "numerical: -0.364569 analytic: -0.364569, relative error: 6.066958e-08\n",
      "numerical: -0.608890 analytic: -0.608890, relative error: 2.260709e-08\n",
      "numerical: -2.657690 analytic: -2.657690, relative error: 1.273663e-08\n",
      "numerical: 0.587985 analytic: 0.587985, relative error: 2.967621e-08\n"
     ]
    }
   ],
   "source": [
    "# Complete the implementation of softmax_loss_naive and implement a (naive)\n",
    "# version of the gradient that uses nested loops.\n",
    "loss, grad = softmax_loss_naive(W, X_dev, y_dev, 0.0, False)\n",
    "\n",
    "# As we did for the SVM, use numeric gradient checking as a debugging tool.\n",
    "# The numeric gradient should be close to the analytic gradient.\n",
    "from cs231n.gradient_check import grad_check_sparse\n",
    "f = lambda w: softmax_loss_naive(w, X_dev, y_dev, 0.0, False)[0]\n",
    "grad_numerical = grad_check_sparse(f, W, grad, 10)\n",
    "\n",
    "# similar to SVM case, do another gradient check with regularization\n",
    "loss, grad = softmax_loss_naive(W, X_dev, y_dev, 5e1)\n",
    "f = lambda w: softmax_loss_naive(w, X_dev, y_dev, 5e1)[0]\n",
    "\n",
    "grad_numerical = grad_check_sparse(f, W, grad, 10)"
   ]
  },
  {
   "cell_type": "code",
   "execution_count": 5,
   "metadata": {
    "scrolled": true
   },
   "outputs": [
    {
     "name": "stdout",
     "output_type": "stream",
     "text": [
      "naive loss: 2.366357e+00 computed in 0.108226s\n",
      "vectorized loss: 2.366357e+00 computed in 0.006237s\n",
      "Loss difference: 0.000000\n",
      "Gradient difference: 0.000000\n"
     ]
    }
   ],
   "source": [
    "# Now that we have a naive implementation of the softmax loss function and its gradient,\n",
    "# implement a vectorized version in softmax_loss_vectorized.\n",
    "# The two versions should compute the same results, but the vectorized version should be\n",
    "# much faster.\n",
    "tic = time.time()\n",
    "loss_naive, grad_naive = softmax_loss_naive(W, X_dev, y_dev, 0.000005)\n",
    "toc = time.time()\n",
    "print('naive loss: %e computed in %fs' % (loss_naive, toc - tic))\n",
    "\n",
    "from cs231n.classifiers.softmax import softmax_loss_vectorized\n",
    "tic = time.time()\n",
    "loss_vectorized, grad_vectorized = softmax_loss_vectorized(W, X_dev, y_dev, 0.000005)\n",
    "toc = time.time()\n",
    "print('vectorized loss: %e computed in %fs' % (loss_vectorized, toc - tic))\n",
    "\n",
    "# As we did for the SVM, we use the Frobenius norm to compare the two versions\n",
    "# of the gradient.\n",
    "grad_difference = np.linalg.norm(grad_naive - grad_vectorized, ord='fro')\n",
    "print('Loss difference: %f' % np.abs(loss_naive - loss_vectorized))\n",
    "print('Gradient difference: %f' % grad_difference)"
   ]
  },
  {
   "cell_type": "code",
   "execution_count": 6,
   "metadata": {
    "scrolled": true
   },
   "outputs": [
    {
     "name": "stdout",
     "output_type": "stream",
     "text": [
      "lr 1.414260e-08 reg 2.615960e+03 train accuracy: 0.120347 val accuracy: 0.112000\n",
      "lr 1.414260e-08 reg 6.875755e+03 train accuracy: 0.103061 val accuracy: 0.106000\n",
      "lr 1.414260e-08 reg 7.740641e+03 train accuracy: 0.132224 val accuracy: 0.124000\n",
      "lr 1.414260e-08 reg 3.655414e+04 train accuracy: 0.122286 val accuracy: 0.125000\n",
      "lr 2.708293e-08 reg 2.615960e+03 train accuracy: 0.116653 val accuracy: 0.139000\n",
      "lr 2.708293e-08 reg 6.875755e+03 train accuracy: 0.114041 val accuracy: 0.117000\n",
      "lr 2.708293e-08 reg 7.740641e+03 train accuracy: 0.157449 val accuracy: 0.147000\n",
      "lr 2.708293e-08 reg 3.655414e+04 train accuracy: 0.147898 val accuracy: 0.135000\n",
      "lr 1.186564e-07 reg 2.615960e+03 train accuracy: 0.185388 val accuracy: 0.173000\n",
      "lr 1.186564e-07 reg 6.875755e+03 train accuracy: 0.214551 val accuracy: 0.219000\n",
      "lr 1.186564e-07 reg 7.740641e+03 train accuracy: 0.202653 val accuracy: 0.205000\n",
      "lr 1.186564e-07 reg 3.655414e+04 train accuracy: 0.300265 val accuracy: 0.317000\n",
      "lr 1.375040e-07 reg 2.615960e+03 train accuracy: 0.190592 val accuracy: 0.203000\n",
      "lr 1.375040e-07 reg 6.875755e+03 train accuracy: 0.210204 val accuracy: 0.231000\n",
      "lr 1.375040e-07 reg 7.740641e+03 train accuracy: 0.214102 val accuracy: 0.218000\n",
      "lr 1.375040e-07 reg 3.655414e+04 train accuracy: 0.305306 val accuracy: 0.330000\n",
      "best validation accuracy achieved during cross-validation: 0.330000\n"
     ]
    }
   ],
   "source": [
    "# Use the validation set to tune hyperparameters (regularization strength and\n",
    "# learning rate). You should experiment with different ranges for the learning\n",
    "# rates and regularization strengths; if you are careful you should be able to\n",
    "# get a classification accuracy of over 0.35 on the validation set.\n",
    "from cs231n.classifiers import Softmax\n",
    "\n",
    "results = {}\n",
    "best_val = -1\n",
    "best_lr = 0\n",
    "best_reg = 0\n",
    "best_softmax = None\n",
    "################################################################################\n",
    "# TODO:                                                                        #\n",
    "# Use the validation set to set the learning rate and regularization strength. #\n",
    "# This should be identical to the validation that you did for the SVM; save    #\n",
    "# the best trained softmax classifer in best_softmax.                          #\n",
    "################################################################################\n",
    "learning_rates = [10 ** i for i in np.random.uniform(-8,-6,4)]\n",
    "regularization_strengths = [10 ** i for i in np.random.uniform(3,5,4)]\n",
    "#lr 7.289744e-07 reg 8.400476e+03 train accuracy: 0.341122 val accuracy: 0.343000\n",
    "\n",
    "for lr in learning_rates:\n",
    "    for reg in regularization_strengths:\n",
    "        sc = Softmax()\n",
    "        loss_train = sc.train(X=X_train,y=y_train,learning_rate=lr,reg=reg,num_iters=300,batch_size=200)\n",
    "        predict_train = sc.predict(X=X_train)\n",
    "        accuracy_train = np.mean(predict_train == y_train)\n",
    "        predict_val = sc.predict(X=X_val)\n",
    "        accuracy_val = np.mean(predict_val == y_val)\n",
    "        results[(lr,reg)]= accuracy_train, accuracy_val\n",
    "        if best_val < accuracy_val:\n",
    "            best_val = accuracy_val\n",
    "            best_reg = reg\n",
    "            best_lr = lr\n",
    "            best_softmax = sc\n",
    "################################################################################\n",
    "#                              END OF YOUR CODE                                #\n",
    "################################################################################\n",
    "# Print out results.\n",
    "for lr, reg in sorted(results):\n",
    "    train_accuracy, val_accuracy = results[(lr, reg)]\n",
    "    print('lr %e reg %e train accuracy: %f val accuracy: %f' % (\n",
    "                lr, reg, train_accuracy, val_accuracy))\n",
    "    \n",
    "print('best validation accuracy achieved during cross-validation: %f' % best_val)"
   ]
  },
  {
   "cell_type": "code",
   "execution_count": 7,
   "metadata": {},
   "outputs": [
    {
     "name": "stdout",
     "output_type": "stream",
     "text": [
      "softmax on raw pixels final test set accuracy: 0.319000\n"
     ]
    }
   ],
   "source": [
    "# evaluate on test set\n",
    "# Evaluate the best softmax on test set\n",
    "y_test_pred = best_softmax.predict(X_test)\n",
    "test_accuracy = np.mean(y_test == y_test_pred)\n",
    "print('softmax on raw pixels final test set accuracy: %f' % (test_accuracy, ))"
   ]
  },
  {
   "cell_type": "code",
   "execution_count": 8,
   "metadata": {},
   "outputs": [
    {
     "data": {
      "image/png": "[encoded data removed]",
      "text/plain": [
       "<Figure size 432x288 with 10 Axes>"
      ]
     },
     "metadata": {},
     "output_type": "display_data"
    }
   ],
   "source": [
    "# Visualize the learned weights for each class\n",
    "w = best_softmax.W[:-1,:] # strip out the bias\n",
    "w = w.reshape(32, 32, 3, 10)\n",
    "\n",
    "w_min, w_max = np.min(w), np.max(w)\n",
    "\n",
    "classes = ['plane', 'car', 'bird', 'cat', 'deer', 'dog', 'frog', 'horse', 'ship', 'truck']\n",
    "for i in range(10):\n",
    "    plt.subplot(2, 5, i + 1)\n",
    "    \n",
    "    # Rescale the weights to be between 0 and 255\n",
    "    wimg = 255.0 * (w[:, :, :, i].squeeze() - w_min) / (w_max - w_min)\n",
    "    plt.imshow(wimg.astype('uint8'))\n",
    "    plt.axis('off')\n",
    "    plt.title(classes[i])"
   ]
  },
  {
   "cell_type": "code",
   "execution_count": null,
   "metadata": {},
   "outputs": [],
   "source": []
  },
  {
   "cell_type": "code",
   "execution_count": null,
   "metadata": {},
   "outputs": [],
   "source": []
  }
 ],
 "metadata": {
  "kernelspec": {
   "display_name": "MachineLearning",
   "language": "python",
   "name": "ml"
  },
  "language_info": {
   "codemirror_mode": {
    "name": "ipython",
    "version": 3
   },
   "file_extension": ".py",
   "mimetype": "text/x-python",
   "name": "python",
   "nbconvert_exporter": "python",
   "pygments_lexer": "ipython3",
   "version": "3.6.5"
  }
 },
 "nbformat": 4,
 "nbformat_minor": 1
}
