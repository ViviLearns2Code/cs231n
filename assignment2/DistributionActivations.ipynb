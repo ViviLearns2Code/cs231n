{
 "cells": [
  {
   "cell_type": "code",
   "execution_count": 1,
   "metadata": {},
   "outputs": [],
   "source": [
    "# As usual, a bit of setup\n",
    "from __future__ import print_function\n",
    "import time\n",
    "import numpy as np\n",
    "import matplotlib.pyplot as plt\n",
    "from cs231n.layer_utils import *\n",
    "from cs231n.data_utils import get_CIFAR10_data\n",
    "\n",
    "%matplotlib inline\n",
    "#plt.rcParams['figure.figsize'] = (20.0, 10.0) # set default size of plots\n",
    "plt.rcParams['image.interpolation'] = 'nearest'\n",
    "#plt.rcParams['image.cmap'] = 'gray'\n",
    "\n",
    "# for auto-reloading external modules\n",
    "# see http://stackoverflow.com/questions/1907993/autoreload-of-modules-in-ipython\n",
    "%load_ext autoreload\n",
    "%autoreload 2"
   ]
  },
  {
   "cell_type": "markdown",
   "metadata": {},
   "source": [
    "## Relu without BN"
   ]
  },
  {
   "cell_type": "code",
   "execution_count": 2,
   "metadata": {},
   "outputs": [
    {
     "ename": "NameError",
     "evalue": "name 'affine_relu_forward' is not defined",
     "output_type": "error",
     "traceback": [
      "\u001b[0;31m---------------------------------------------------------------------------\u001b[0m",
      "\u001b[0;31mNameError\u001b[0m                                 Traceback (most recent call last)",
      "\u001b[0;32m<ipython-input-2-1db39d5340b9>\u001b[0m in \u001b[0;36m<module>\u001b[0;34m()\u001b[0m\n\u001b[1;32m      7\u001b[0m         \u001b[0minput\u001b[0m \u001b[0;34m=\u001b[0m \u001b[0mout\u001b[0m\u001b[0;34m\u001b[0m\u001b[0m\n\u001b[1;32m      8\u001b[0m         \u001b[0mW\u001b[0m \u001b[0;34m=\u001b[0m \u001b[0;36m0.001\u001b[0m\u001b[0;34m*\u001b[0m\u001b[0mnp\u001b[0m\u001b[0;34m.\u001b[0m\u001b[0mrandom\u001b[0m\u001b[0;34m.\u001b[0m\u001b[0mrandn\u001b[0m\u001b[0;34m(\u001b[0m\u001b[0;36m100\u001b[0m\u001b[0;34m,\u001b[0m \u001b[0;36m100\u001b[0m\u001b[0;34m)\u001b[0m\u001b[0;34m\u001b[0m\u001b[0m\n\u001b[0;32m----> 9\u001b[0;31m     \u001b[0mout\u001b[0m\u001b[0;34m,\u001b[0m \u001b[0mcache\u001b[0m \u001b[0;34m=\u001b[0m \u001b[0maffine_relu_forward\u001b[0m\u001b[0;34m(\u001b[0m\u001b[0minput\u001b[0m\u001b[0;34m,\u001b[0m\u001b[0mW\u001b[0m\u001b[0;34m,\u001b[0m\u001b[0mnp\u001b[0m\u001b[0;34m.\u001b[0m\u001b[0mzeros\u001b[0m\u001b[0;34m(\u001b[0m\u001b[0;36m100\u001b[0m\u001b[0;34m)\u001b[0m\u001b[0;34m)\u001b[0m\u001b[0;34m\u001b[0m\u001b[0m\n\u001b[0m\u001b[1;32m     10\u001b[0m     \u001b[0mact\u001b[0m\u001b[0;34m.\u001b[0m\u001b[0mappend\u001b[0m\u001b[0;34m(\u001b[0m\u001b[0mout\u001b[0m\u001b[0;34m)\u001b[0m\u001b[0;34m\u001b[0m\u001b[0m\n\u001b[1;32m     11\u001b[0m \u001b[0mact_mean\u001b[0m \u001b[0;34m=\u001b[0m \u001b[0;34m[\u001b[0m\u001b[0mnp\u001b[0m\u001b[0;34m.\u001b[0m\u001b[0mmean\u001b[0m\u001b[0;34m(\u001b[0m\u001b[0mout\u001b[0m\u001b[0;34m)\u001b[0m \u001b[0;32mfor\u001b[0m \u001b[0mout\u001b[0m \u001b[0;32min\u001b[0m \u001b[0mact\u001b[0m\u001b[0;34m]\u001b[0m\u001b[0;34m\u001b[0m\u001b[0m\n",
      "\u001b[0;31mNameError\u001b[0m: name 'affine_relu_forward' is not defined"
     ]
    }
   ],
   "source": [
    "act = []\n",
    "for i in range(16): #16 layers\n",
    "    if i==0:\n",
    "        input = np.random.randn(1000,100)\n",
    "        W = 0.001*np.random.randn(100, 100)\n",
    "    else: \n",
    "        input = out\n",
    "        W = 0.001*np.random.randn(100, 100)\n",
    "    out, cache = affine_relu_forward(input,W,np.zeros(100))\n",
    "    act.append(out)\n",
    "act_mean = [np.mean(out) for out in act]\n",
    "act_std = [np.std(out) for out in act]\n",
    "for i in range(len(act)):\n",
    "    print(\"Layer {i} mean {mu} std {sigma}\".format(i=i,mu=act_mean[i],sigma=act_std[i]))\n",
    "plt.figure(figsize=(20, 5))\n",
    "j=0\n",
    "for i in range(len(act)):\n",
    "    if i%2==0:\n",
    "        j+=1\n",
    "        plt.subplot(1,len(act)//2+1,j+1)\n",
    "        plt.hist(act[i].ravel())"
   ]
  },
  {
   "cell_type": "code",
   "execution_count": null,
   "metadata": {},
   "outputs": [],
   "source": []
  },
  {
   "cell_type": "markdown",
   "metadata": {},
   "source": [
    "## Relu before BN"
   ]
  },
  {
   "cell_type": "code",
   "execution_count": null,
   "metadata": {},
   "outputs": [],
   "source": [
    "act = []\n",
    "for i in range(16): #16 layers\n",
    "    if i==0:\n",
    "        input = np.random.randn(1000,100)\n",
    "        W = 0.001*np.random.randn(100, 100)\n",
    "    else: \n",
    "        input = out\n",
    "        W = 0.001*np.random.randn(100, 100)\n",
    "    out, cache = affine_relu_bn_forward(input,W,np.ones(100),np.ones(100),np.zeros(100),{\"mode\":\"train\"})\n",
    "    act.append(out)\n",
    "act_mean = [np.mean(out) for out in act]\n",
    "act_std = [np.std(out) for out in act]\n",
    "for i in range(len(act)):\n",
    "    print(\"Layer {i} mean {mu} std {sigma}\".format(i=i,mu=act_mean[i],sigma=act_std[i]))\n",
    "plt.figure(figsize=(20, 5))\n",
    "j=0\n",
    "for i in range(len(act)):\n",
    "    if i%2==0:\n",
    "        j+=1\n",
    "        plt.subplot(1,len(act)//2+1,j+1)\n",
    "        plt.hist(act[i].ravel())\n"
   ]
  },
  {
   "cell_type": "markdown",
   "metadata": {},
   "source": [
    "## Relu after BN"
   ]
  },
  {
   "cell_type": "code",
   "execution_count": null,
   "metadata": {},
   "outputs": [],
   "source": [
    "act = []\n",
    "for i in range(16): #16 layers\n",
    "    if i==0:\n",
    "        input = np.random.randn(1000,100)\n",
    "        W = 0.001*np.random.randn(100, 100)\n",
    "    else: \n",
    "        input = out\n",
    "        W = 0.001*np.random.randn(100, 100)\n",
    "    out, cache = affine_bn_relu_forward(input,W,np.ones(100),np.ones(100),np.zeros(100),{\"mode\":\"train\"})\n",
    "    act.append(out)\n",
    "act_mean = [np.mean(out) for out in act] #mean overall\n",
    "act_std = [np.std(out) for out in act] #std overall\n",
    "for i in range(len(act)):\n",
    "    print(\"Layer {i} mean {mu} std {sigma}\".format(i=i,mu=act_mean[i],sigma=act_std[i]))\n",
    "plt.figure(figsize=(20, 5))\n",
    "j=0\n",
    "for i in range(len(act)):\n",
    "    if i%2==0:\n",
    "        j+=1\n",
    "        plt.subplot(1,len(act)//2+1,j+1)\n",
    "        plt.hist(act[i].ravel())"
   ]
  },
  {
   "cell_type": "code",
   "execution_count": null,
   "metadata": {},
   "outputs": [],
   "source": []
  }
 ],
 "metadata": {
  "kernelspec": {
   "display_name": "MachineLearning",
   "language": "python",
   "name": "ml"
  },
  "language_info": {
   "codemirror_mode": {
    "name": "ipython",
    "version": 3
   },
   "file_extension": ".py",
   "mimetype": "text/x-python",
   "name": "python",
   "nbconvert_exporter": "python",
   "pygments_lexer": "ipython3",
   "version": "3.6.5"
  }
 },
 "nbformat": 4,
 "nbformat_minor": 2
}
